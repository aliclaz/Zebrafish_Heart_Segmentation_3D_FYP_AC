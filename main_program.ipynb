{
 "cells": [
  {
   "cell_type": "code",
   "execution_count": null,
   "metadata": {},
   "outputs": [],
   "source": [
    "from imgPreprocessing import get_hpf\n",
    "from keras.models import load_model\n",
    "from predict_module import predict\n",
    "from statistical_analysis.df_manipulation import gm_df_calcs, healthy_df_calcs, add_df_calcs, add_healthy_df_calcs"
   ]
  },
  {
   "cell_type": "code",
   "execution_count": null,
   "metadata": {},
   "outputs": [],
   "source": [
    "in_path = input('What is the directory path to the image(s) you would like to analyse?\\n')\n",
    "out_path = input('What is the directory path you would like to save the results in?\\n')\n",
    "reuse = input('Are you adding more images from the same experiment?\\n')\n",
    "stat_path = 'content/drive/MyDrive/Stats/'\n",
    "mod_path = '/content/drive/MyDrive/Models/'\n",
    "entered_hpf = input('What stage of development were the provided images taken in?\\n')\n",
    "gm = input('What genetic modification has been applied to the embryo in the image(s)?\\n')\n",
    "scales = []\n",
    "while scale != 'Done':\n",
    "    scale = input('What is the height/width of the image in micrometres?\\nIf all images have the same value, only enter it once.\\n Enter Done when this has been completed for all images entered\\n')\n",
    "    scales.append(scale)"
   ]
  },
  {
   "cell_type": "code",
   "execution_count": null,
   "metadata": {},
   "outputs": [],
   "source": [
    "# Get one of the default hpf values (30, 36, 48) based on which the entered value is closest to\n",
    "\n",
    "mod_hpf = get_hpf(entered_hpf)"
   ]
  },
  {
   "cell_type": "code",
   "execution_count": null,
   "metadata": {},
   "outputs": [],
   "source": [
    "# Define the required size parameters of the image for the model and the backbone used in the model\n",
    "\n",
    "height = 512\n",
    "width = 512\n",
    "depth = 512\n",
    "channels = 3\n",
    "backbone = 'resnet34'"
   ]
  },
  {
   "cell_type": "code",
   "execution_count": null,
   "metadata": {},
   "outputs": [],
   "source": [
    "# Load the model being used to make the predictions\n",
    "\n",
    "model = load_model(mod_path+'{}HPF_AttentionResUnet_100epochs.h5'.format(mod_hpf), compile=True)"
   ]
  },
  {
   "cell_type": "code",
   "execution_count": null,
   "metadata": {},
   "outputs": [],
   "source": [
    "# Import images, preprocess, make predictions and save the predicted masks\n",
    "\n",
    "imgs, preds = predict(model, backbone, in_path, out_path)"
   ]
  },
  {
   "cell_type": "code",
   "execution_count": null,
   "metadata": {},
   "outputs": [],
   "source": [
    "# Find volume of each class in the image\n",
    "# Get the class labels for each stage of development\n",
    "\n",
    "if mod_hpf == 30:\n",
    "    classes = ['Background', 'Noise', 'Endocardium', 'Linear Heart Tube']\n",
    "elif mod_hpf == 36:\n",
    "    classes = ['Background', 'Noise', 'Endocardium', 'Atrium', 'Ventricle']\n",
    "elif mod_hpf == 48:\n",
    "    classes = ['Background', 'Noise', 'Endocardium', 'Atrium', 'AVC', 'Ventricle']"
   ]
  },
  {
   "cell_type": "code",
   "execution_count": null,
   "metadata": {},
   "outputs": [],
   "source": [
    "# Complete calculations of the volumes of each class from the predicted masks and complete a statistical test as to whether the difference between\n",
    "# the mean volume of each class of the entered images is statistically significantly different to that of the mean healthy volume of each class\n",
    "\n",
    "# The results will be displayed in the terminal and saved as a CSV file in the user chose output path for access at a later date\n",
    "\n",
    "if reuse == 'yes' or 'Yes' or 'YES' or 'y':\n",
    "    if gm == 'healthy' or 'Healthy' or 'HEALTHY' or 'None' or 'none' or 'NONE':\n",
    "        add_healthy_df_calcs(preds, classes, entered_hpf, scales, stat_path, out_path)\n",
    "    else:\n",
    "        add_df_calcs(preds, classes, entered_hpf, gm, scales, stat_path, out_path)\n",
    "\n",
    "else:\n",
    "    if gm == 'healthy' or 'Healthy' or 'HEALTHY' or 'None' or 'none' or 'NONE':\n",
    "        add_healthy_df_calcs(preds, classes, entered_hpf, scales, stat_path, out_path)\n",
    "    else:\n",
    "        gm_df_calcs(preds, classes, entered_hpf, gm, scales, stat_path, out_path)"
   ]
  }
 ],
 "metadata": {
  "language_info": {
   "name": "python"
  },
  "orig_nbformat": 4
 },
 "nbformat": 4,
 "nbformat_minor": 2
}
